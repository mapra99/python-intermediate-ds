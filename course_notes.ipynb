{
 "cells": [
  {
   "cell_type": "markdown",
   "id": "44dcf7e9-5187-47de-b9d5-a7d59c804e4e",
   "metadata": {},
   "source": [
    "# Intermediate Python\n",
    "\n",
    "_DataCamp Course - Oct 2022_"
   ]
  },
  {
   "cell_type": "markdown",
   "id": "dd48e888-a260-421a-86a3-5ff585fa4d83",
   "metadata": {},
   "source": [
    "## Matplotlib\n",
    "Matplotlib is a python library for data visualization. \n",
    "Here is a [cheat sheet](https://matplotlib.org/cheatsheets/_images/cheatsheets-1.png) for using the library."
   ]
  },
  {
   "cell_type": "markdown",
   "id": "0c477d7c-12f8-4821-b66f-d0058b4b699e",
   "metadata": {},
   "source": [
    "### Data Visualization of Gapminder data\n",
    "Below is an example of the library using the gapminder data to show the relation between life expectancy and GDP per capita for all countries in 2007"
   ]
  },
  {
   "cell_type": "code",
   "execution_count": 45,
   "id": "16c11b11-4ad4-45f1-9036-55c98d43153f",
   "metadata": {},
   "outputs": [
    {
     "data": {
      "text/html": [
       "<div>\n",
       "<style scoped>\n",
       "    .dataframe tbody tr th:only-of-type {\n",
       "        vertical-align: middle;\n",
       "    }\n",
       "\n",
       "    .dataframe tbody tr th {\n",
       "        vertical-align: top;\n",
       "    }\n",
       "\n",
       "    .dataframe thead th {\n",
       "        text-align: right;\n",
       "    }\n",
       "</style>\n",
       "<table border=\"1\" class=\"dataframe\">\n",
       "  <thead>\n",
       "    <tr style=\"text-align: right;\">\n",
       "      <th></th>\n",
       "      <th>country</th>\n",
       "      <th>continent</th>\n",
       "      <th>year</th>\n",
       "      <th>lifeExp</th>\n",
       "      <th>pop</th>\n",
       "      <th>gdpPercap</th>\n",
       "    </tr>\n",
       "  </thead>\n",
       "  <tbody>\n",
       "    <tr>\n",
       "      <th>0</th>\n",
       "      <td>Afghanistan</td>\n",
       "      <td>Asia</td>\n",
       "      <td>1952</td>\n",
       "      <td>28.801</td>\n",
       "      <td>8425333</td>\n",
       "      <td>779.445314</td>\n",
       "    </tr>\n",
       "    <tr>\n",
       "      <th>1</th>\n",
       "      <td>Afghanistan</td>\n",
       "      <td>Asia</td>\n",
       "      <td>1957</td>\n",
       "      <td>30.332</td>\n",
       "      <td>9240934</td>\n",
       "      <td>820.853030</td>\n",
       "    </tr>\n",
       "    <tr>\n",
       "      <th>2</th>\n",
       "      <td>Afghanistan</td>\n",
       "      <td>Asia</td>\n",
       "      <td>1962</td>\n",
       "      <td>31.997</td>\n",
       "      <td>10267083</td>\n",
       "      <td>853.100710</td>\n",
       "    </tr>\n",
       "    <tr>\n",
       "      <th>3</th>\n",
       "      <td>Afghanistan</td>\n",
       "      <td>Asia</td>\n",
       "      <td>1967</td>\n",
       "      <td>34.020</td>\n",
       "      <td>11537966</td>\n",
       "      <td>836.197138</td>\n",
       "    </tr>\n",
       "    <tr>\n",
       "      <th>4</th>\n",
       "      <td>Afghanistan</td>\n",
       "      <td>Asia</td>\n",
       "      <td>1972</td>\n",
       "      <td>36.088</td>\n",
       "      <td>13079460</td>\n",
       "      <td>739.981106</td>\n",
       "    </tr>\n",
       "  </tbody>\n",
       "</table>\n",
       "</div>"
      ],
      "text/plain": [
       "       country continent  year  lifeExp       pop   gdpPercap\n",
       "0  Afghanistan      Asia  1952   28.801   8425333  779.445314\n",
       "1  Afghanistan      Asia  1957   30.332   9240934  820.853030\n",
       "2  Afghanistan      Asia  1962   31.997  10267083  853.100710\n",
       "3  Afghanistan      Asia  1967   34.020  11537966  836.197138\n",
       "4  Afghanistan      Asia  1972   36.088  13079460  739.981106"
      ]
     },
     "execution_count": 45,
     "metadata": {},
     "output_type": "execute_result"
    }
   ],
   "source": [
    "from gapminder import gapminder\n",
    "gapminder.head()"
   ]
  },
  {
   "cell_type": "code",
   "execution_count": 46,
   "id": "46eb0596-10dc-4f44-9667-050029cb95f9",
   "metadata": {},
   "outputs": [
    {
     "data": {
      "text/html": [
       "<div>\n",
       "<style scoped>\n",
       "    .dataframe tbody tr th:only-of-type {\n",
       "        vertical-align: middle;\n",
       "    }\n",
       "\n",
       "    .dataframe tbody tr th {\n",
       "        vertical-align: top;\n",
       "    }\n",
       "\n",
       "    .dataframe thead th {\n",
       "        text-align: right;\n",
       "    }\n",
       "</style>\n",
       "<table border=\"1\" class=\"dataframe\">\n",
       "  <thead>\n",
       "    <tr style=\"text-align: right;\">\n",
       "      <th></th>\n",
       "      <th>country</th>\n",
       "      <th>continent</th>\n",
       "      <th>year</th>\n",
       "      <th>lifeExp</th>\n",
       "      <th>pop</th>\n",
       "      <th>gdpPercap</th>\n",
       "    </tr>\n",
       "  </thead>\n",
       "  <tbody>\n",
       "    <tr>\n",
       "      <th>11</th>\n",
       "      <td>Afghanistan</td>\n",
       "      <td>Asia</td>\n",
       "      <td>2007</td>\n",
       "      <td>43.828</td>\n",
       "      <td>31889923</td>\n",
       "      <td>974.580338</td>\n",
       "    </tr>\n",
       "    <tr>\n",
       "      <th>23</th>\n",
       "      <td>Albania</td>\n",
       "      <td>Europe</td>\n",
       "      <td>2007</td>\n",
       "      <td>76.423</td>\n",
       "      <td>3600523</td>\n",
       "      <td>5937.029526</td>\n",
       "    </tr>\n",
       "    <tr>\n",
       "      <th>35</th>\n",
       "      <td>Algeria</td>\n",
       "      <td>Africa</td>\n",
       "      <td>2007</td>\n",
       "      <td>72.301</td>\n",
       "      <td>33333216</td>\n",
       "      <td>6223.367465</td>\n",
       "    </tr>\n",
       "    <tr>\n",
       "      <th>47</th>\n",
       "      <td>Angola</td>\n",
       "      <td>Africa</td>\n",
       "      <td>2007</td>\n",
       "      <td>42.731</td>\n",
       "      <td>12420476</td>\n",
       "      <td>4797.231267</td>\n",
       "    </tr>\n",
       "    <tr>\n",
       "      <th>59</th>\n",
       "      <td>Argentina</td>\n",
       "      <td>Americas</td>\n",
       "      <td>2007</td>\n",
       "      <td>75.320</td>\n",
       "      <td>40301927</td>\n",
       "      <td>12779.379640</td>\n",
       "    </tr>\n",
       "  </tbody>\n",
       "</table>\n",
       "</div>"
      ],
      "text/plain": [
       "        country continent  year  lifeExp       pop     gdpPercap\n",
       "11  Afghanistan      Asia  2007   43.828  31889923    974.580338\n",
       "23      Albania    Europe  2007   76.423   3600523   5937.029526\n",
       "35      Algeria    Africa  2007   72.301  33333216   6223.367465\n",
       "47       Angola    Africa  2007   42.731  12420476   4797.231267\n",
       "59    Argentina  Americas  2007   75.320  40301927  12779.379640"
      ]
     },
     "execution_count": 46,
     "metadata": {},
     "output_type": "execute_result"
    }
   ],
   "source": [
    "gapminder_2007 = gapminder[gapminder.year == 2007]\n",
    "gapminder_2007.head()"
   ]
  },
  {
   "cell_type": "code",
   "execution_count": 47,
   "id": "d2605f7e-364b-4b33-874b-9cd657cdeebd",
   "metadata": {},
   "outputs": [
    {
     "data": {
      "image/png": "[encoded data removed]",
      "text/plain": [
       "<Figure size 640x480 with 1 Axes>"
      ]
     },
     "metadata": {},
     "output_type": "display_data"
    },
    {
     "name": "stdout",
     "output_type": "stream",
     "text": [
      "{'Asia': 'red', 'Europe': 'green', 'Africa': 'blue', 'Americas': 'yellow', 'Oceania': 'black'}\n"
     ]
    }
   ],
   "source": [
    "import matplotlib.pyplot as plt\n",
    "\n",
    "gdp_cap = gapminder_2007.gdpPercap\n",
    "life_exp = gapminder_2007.lifeExp\n",
    "pop = gapminder_2007['pop']\n",
    "\n",
    "colors_map = {\n",
    "    'Asia': 'red',\n",
    "    'Europe': 'green',\n",
    "    'Africa': 'blue',\n",
    "    'Americas': 'yellow',\n",
    "    'Oceania': 'black'\n",
    "}\n",
    "\n",
    "colors = list(gapminder_2007.continent.replace(colors_map))\n",
    "\n",
    "# Reset plot to start from scratch\n",
    "plt.clf()\n",
    "\n",
    "# Add grid() call\n",
    "plt.grid(True)\n",
    "\n",
    "# Scatter plot\n",
    "plt.scatter(\n",
    "    x = gdp_cap,\n",
    "    y = life_exp,\n",
    "    s = pop * 2 / 1_000_000,\n",
    "    c = colors,\n",
    "    alpha = 0.8\n",
    ")\n",
    "\n",
    "# Previous customizations\n",
    "plt.xscale('log') \n",
    "plt.xlabel('GDP per Capita [in USD]')\n",
    "plt.ylabel('Life Expectancy [in years]')\n",
    "plt.title('World Development in 2007')\n",
    "plt.xticks([1000,10000,100000], ['1k','10k','100k'])\n",
    "\n",
    "# Additional customizations\n",
    "plt.text(1550, 71, 'India')\n",
    "plt.text(5700, 80, 'China')\n",
    "\n",
    "# Show the plot\n",
    "plt.show()\n",
    "print(colors_map)"
   ]
  },
  {
   "cell_type": "markdown",
   "id": "449e3ee1-c1e2-4a3e-8c46-da969a9b0e9f",
   "metadata": {},
   "source": [
    "## Dictionaries\n",
    "\n",
    "Dictionaries are python name for key-value pairs data structure, like hashmaps or ruby hashes."
   ]
  },
  {
   "cell_type": "code",
   "execution_count": 48,
   "id": "34ec0b3b-af7f-47b3-8683-d3a6e600f153",
   "metadata": {},
   "outputs": [
    {
     "name": "stdout",
     "output_type": "stream",
     "text": [
      "True\n",
      "{'spain': 'madrid', 'france': 'paris', 'germany': 'berlin', 'italy': 'rome', 'poland': 'warsaw'}\n",
      "{'spain': {'capital': 'madrid', 'population': 46.77}, 'france': {'capital': 'paris', 'population': 66.03}, 'germany': {'capital': 'berlin', 'population': 80.62}, 'norway': {'capital': 'oslo', 'population': 5.084}, 'england': {'capital': 'london', 'population': 59.83}}\n"
     ]
    }
   ],
   "source": [
    "# Definition of dictionary\n",
    "europe = {'spain':'madrid', 'france':'paris', 'germany':'berlin', 'norway':'oslo' }\n",
    "\n",
    "# Add italy to europe\n",
    "europe['italy'] = 'rome'\n",
    "\n",
    "# Print out italy in europe\n",
    "print('italy' in europe)\n",
    "\n",
    "# Add poland to europe\n",
    "europe['poland'] = 'warsaw'\n",
    "\n",
    "# Remove norway\n",
    "del(europe['norway'])\n",
    "\n",
    "# Print europe\n",
    "print(europe)\n",
    "\n",
    "# Dictionary of dictionaries\n",
    "europe = { 'spain': { 'capital':'madrid', 'population':46.77 },\n",
    "           'france': { 'capital':'paris', 'population':66.03 },\n",
    "           'germany': { 'capital':'berlin', 'population':80.62 },\n",
    "           'norway': { 'capital':'oslo', 'population':5.084 } }\n",
    "\n",
    "# Create sub-dictionary data\n",
    "data = { 'capital': 'london', 'population': 59.83 }\n",
    "\n",
    "# Add data to europe under key 'italy'\n",
    "europe['england'] = data\n",
    "\n",
    "# Print europe\n",
    "print(europe)"
   ]
  },
  {
   "cell_type": "markdown",
   "id": "7e6eaed5-2f8c-47ff-9f1a-761d030075d2",
   "metadata": {},
   "source": [
    "### Pandas\n",
    "\n",
    "Pandas is a Python library that provides tools for data manipulation, especially large amounts of data which is the common scenario on data science. Pandas provides a data type called `DataFrame`. A `DataFrame` is a representation of tabular data, where there are multiple columns (also called variables), and multiple rows (also called observations). The values on each column must be of the same data type."
   ]
  },
  {
   "cell_type": "markdown",
   "id": "c03db767-0150-4bb8-973b-ff2a507ae198",
   "metadata": {},
   "source": [
    "#### Creating a DataFrame from a dictionary"
   ]
  },
  {
   "cell_type": "code",
   "execution_count": 49,
   "id": "eb65b4bc-4598-4005-953b-d690884e62ab",
   "metadata": {},
   "outputs": [
    {
     "name": "stdout",
     "output_type": "stream",
     "text": [
      "         country  drives_right  cars_per_cap\n",
      "0  United States          True           809\n",
      "1      Australia         False           731\n",
      "2          Japan         False           588\n",
      "3          India         False            18\n",
      "4         Russia          True           200\n",
      "5        Morocco          True            70\n",
      "6          Egypt          True            45\n"
     ]
    }
   ],
   "source": [
    "# Import pandas\n",
    "import pandas as pd\n",
    "\n",
    "# Pre-defined lists\n",
    "names = ['United States', 'Australia', 'Japan', 'India', 'Russia', 'Morocco', 'Egypt']\n",
    "dr =  [True, False, False, False, True, True, True]\n",
    "cpc = [809, 731, 588, 18, 200, 70, 45]\n",
    "\n",
    "# Create dictionary my_dict with three key:value pairs: my_dict\n",
    "my_dict = {\n",
    "    'country': names,\n",
    "    'drives_right': dr,\n",
    "    'cars_per_cap': cpc\n",
    "}\n",
    "\n",
    "# Build a DataFrame cars from my_dict: cars\n",
    "cars = pd.DataFrame(my_dict)\n",
    "\n",
    "# Print cars\n",
    "print(cars)"
   ]
  },
  {
   "cell_type": "markdown",
   "id": "0f3b8d62-b2f6-4ffe-8b27-09bd58521716",
   "metadata": {},
   "source": [
    "Row labels can be renamed to override the default values, which are shown above as 0, 1, 2...6"
   ]
  },
  {
   "cell_type": "code",
   "execution_count": 50,
   "id": "c9026fdd-e394-4e8e-82c1-5379698d0db3",
   "metadata": {},
   "outputs": [
    {
     "name": "stdout",
     "output_type": "stream",
     "text": [
      "           country  drives_right  cars_per_cap\n",
      "US   United States          True           809\n",
      "AUS      Australia         False           731\n",
      "JPN          Japan         False           588\n",
      "IN           India         False            18\n",
      "RU          Russia          True           200\n",
      "MOR        Morocco          True            70\n",
      "EG           Egypt          True            45\n"
     ]
    }
   ],
   "source": [
    "# Definition of row_labels\n",
    "row_labels = ['US', 'AUS', 'JPN', 'IN', 'RU', 'MOR', 'EG']\n",
    "\n",
    "# Specify row labels of cars\n",
    "cars.index = row_labels\n",
    "\n",
    "# Print cars again\n",
    "print(cars)"
   ]
  },
  {
   "cell_type": "markdown",
   "id": "0027f7e8-8a86-44c8-b46d-b62734594645",
   "metadata": {},
   "source": [
    "### Accessing DataFrames\n",
    "\n",
    "DataFrames data can be accessed using square brackets in 2 different ways:"
   ]
  },
  {
   "cell_type": "code",
   "execution_count": 51,
   "id": "8d0bc2ae-f4c0-4522-883c-5e5274436eab",
   "metadata": {},
   "outputs": [
    {
     "name": "stdout",
     "output_type": "stream",
     "text": [
      "US     United States\n",
      "AUS        Australia\n",
      "JPN            Japan\n",
      "IN             India\n",
      "RU            Russia\n",
      "MOR          Morocco\n",
      "EG             Egypt\n",
      "Name: country, dtype: object\n"
     ]
    }
   ],
   "source": [
    "# Print out country column as Pandas Series\n",
    "print(cars['country'])"
   ]
  },
  {
   "cell_type": "code",
   "execution_count": 52,
   "id": "266bdbe7-b97c-491f-b4b7-ca7e2cdfea2b",
   "metadata": {},
   "outputs": [
    {
     "name": "stdout",
     "output_type": "stream",
     "text": [
      "           country\n",
      "US   United States\n",
      "AUS      Australia\n",
      "JPN          Japan\n",
      "IN           India\n",
      "RU          Russia\n",
      "MOR        Morocco\n",
      "EG           Egypt\n"
     ]
    }
   ],
   "source": [
    "# Print out country column as Pandas DataFrame\n",
    "print(cars[['country']])"
   ]
  },
  {
   "cell_type": "code",
   "execution_count": 53,
   "id": "e7a917e7-246f-4f6d-a83e-e30135d070f3",
   "metadata": {},
   "outputs": [
    {
     "name": "stdout",
     "output_type": "stream",
     "text": [
      "           country  drives_right\n",
      "US   United States          True\n",
      "AUS      Australia         False\n",
      "JPN          Japan         False\n",
      "IN           India         False\n",
      "RU          Russia          True\n",
      "MOR        Morocco          True\n",
      "EG           Egypt          True\n"
     ]
    }
   ],
   "source": [
    "# Print out DataFrame with country and drives_right columns\n",
    "print(cars[['country', 'drives_right']])"
   ]
  },
  {
   "cell_type": "markdown",
   "id": "fe936320-0076-4b12-baa4-864ba1e553a1",
   "metadata": {},
   "source": [
    "To get specific rows, brackets can be used in the following way:"
   ]
  },
  {
   "cell_type": "code",
   "execution_count": 54,
   "id": "ec735440-9e60-41d6-a83c-9eebab0e177b",
   "metadata": {},
   "outputs": [
    {
     "name": "stdout",
     "output_type": "stream",
     "text": [
      "           country  drives_right  cars_per_cap\n",
      "US   United States          True           809\n",
      "AUS      Australia         False           731\n",
      "JPN          Japan         False           588\n"
     ]
    }
   ],
   "source": [
    "# Print out first 3 observations\n",
    "print(cars[0:3])"
   ]
  },
  {
   "cell_type": "code",
   "execution_count": 55,
   "id": "73178d55-7d5c-4c6f-8509-ad2f151ca327",
   "metadata": {},
   "outputs": [
    {
     "name": "stdout",
     "output_type": "stream",
     "text": [
      "           country  cars_per_cap\n",
      "US   United States           809\n",
      "AUS      Australia           731\n",
      "JPN          Japan           588\n"
     ]
    }
   ],
   "source": [
    "# Print out the country and cars_per_cap of the first 3 observations\n",
    "print(cars[0:3][['country', 'cars_per_cap']])"
   ]
  },
  {
   "cell_type": "markdown",
   "id": "018f2f17-a264-4445-9ac5-fef9af26f798",
   "metadata": {},
   "source": [
    "Using `loc` and `iloc`:"
   ]
  },
  {
   "cell_type": "code",
   "execution_count": 56,
   "id": "8cddbe29-f2d6-4c23-b996-13e6e1ebd2ba",
   "metadata": {},
   "outputs": [
    {
     "name": "stdout",
     "output_type": "stream",
     "text": [
      "country         Japan\n",
      "drives_right    False\n",
      "cars_per_cap      588\n",
      "Name: JPN, dtype: object\n"
     ]
    }
   ],
   "source": [
    "# Print out observation for Japan\n",
    "print(cars.loc['JPN'])"
   ]
  },
  {
   "cell_type": "code",
   "execution_count": 57,
   "id": "e01cc9b9-f50c-4573-bb88-42e20d2312a5",
   "metadata": {},
   "outputs": [
    {
     "name": "stdout",
     "output_type": "stream",
     "text": [
      "       country  drives_right  cars_per_cap\n",
      "AUS  Australia         False           731\n",
      "EG       Egypt          True            45\n"
     ]
    }
   ],
   "source": [
    "# Print out observations for Australia and Egypt\n",
    "print(cars.loc[['AUS', 'EG']])"
   ]
  },
  {
   "cell_type": "code",
   "execution_count": 58,
   "id": "639f6b25-d62b-408c-a154-a7de7a55faf6",
   "metadata": {},
   "outputs": [
    {
     "name": "stdout",
     "output_type": "stream",
     "text": [
      "country         United States\n",
      "drives_right             True\n",
      "cars_per_cap              809\n",
      "Name: US, dtype: object\n"
     ]
    }
   ],
   "source": [
    "# iloc is index-based\n",
    "print(cars.iloc[0])"
   ]
  },
  {
   "cell_type": "markdown",
   "id": "49a54683-213c-4973-8607-6313dec4389e",
   "metadata": {},
   "source": [
    "`loc` and `iloc` can also help slicing rows and columns"
   ]
  },
  {
   "cell_type": "code",
   "execution_count": 59,
   "id": "57219f20-668a-451f-9a65-4bbe9d3ca775",
   "metadata": {},
   "outputs": [
    {
     "name": "stdout",
     "output_type": "stream",
     "text": [
      "True\n"
     ]
    }
   ],
   "source": [
    "# Print out drives_right value of Morocco\n",
    "print(cars.loc['MOR', 'drives_right'])"
   ]
  },
  {
   "cell_type": "code",
   "execution_count": 60,
   "id": "c4ea34ec-30ea-4bf2-8ca6-7ceda7b291c3",
   "metadata": {},
   "outputs": [
    {
     "name": "stdout",
     "output_type": "stream",
     "text": [
      "     country  drives_right\n",
      "RU    Russia          True\n",
      "MOR  Morocco          True\n"
     ]
    }
   ],
   "source": [
    "# Print sub-DataFrame\n",
    "print(cars.loc[['RU', 'MOR'], ['country', 'drives_right']])"
   ]
  },
  {
   "cell_type": "code",
   "execution_count": 61,
   "id": "7947c2fc-e86a-449f-b5b7-bc3a16cd7d6c",
   "metadata": {},
   "outputs": [
    {
     "name": "stdout",
     "output_type": "stream",
     "text": [
      "US      True\n",
      "AUS    False\n",
      "JPN    False\n",
      "IN     False\n",
      "RU      True\n",
      "MOR     True\n",
      "EG      True\n",
      "Name: drives_right, dtype: bool\n"
     ]
    }
   ],
   "source": [
    "# Print out drives_right column as Series\n",
    "print(cars.loc[:, 'drives_right'])"
   ]
  },
  {
   "cell_type": "code",
   "execution_count": 62,
   "id": "2a88a896-20b3-4cb3-9a6d-a6c4450ee932",
   "metadata": {},
   "outputs": [
    {
     "name": "stdout",
     "output_type": "stream",
     "text": [
      "     drives_right\n",
      "US           True\n",
      "AUS         False\n",
      "JPN         False\n",
      "IN          False\n",
      "RU           True\n",
      "MOR          True\n",
      "EG           True\n"
     ]
    }
   ],
   "source": [
    "# Print out drives_right column as DataFrame\n",
    "print(cars.loc[:, ['drives_right']])"
   ]
  },
  {
   "cell_type": "code",
   "execution_count": 63,
   "id": "c59ad9e2-3a06-4e9d-bcdd-99c9a37369ce",
   "metadata": {},
   "outputs": [
    {
     "name": "stdout",
     "output_type": "stream",
     "text": [
      "     cars_per_cap  drives_right\n",
      "US            809          True\n",
      "AUS           731         False\n",
      "JPN           588         False\n",
      "IN             18         False\n",
      "RU            200          True\n",
      "MOR            70          True\n",
      "EG             45          True\n"
     ]
    }
   ],
   "source": [
    "# Print out cars_per_cap and drives_right as DataFrame\n",
    "print(cars.loc[:, ['cars_per_cap', 'drives_right']])"
   ]
  },
  {
   "cell_type": "markdown",
   "id": "464c7663-34fb-4e00-bd00-7c2fdc27d967",
   "metadata": {},
   "source": [
    "### Filtering\n",
    "\n",
    "Filtering can be done by mixing up the syntax above with logical conditions"
   ]
  },
  {
   "cell_type": "code",
   "execution_count": 64,
   "id": "9a814477-7271-43fd-b3f0-4cde4b31814d",
   "metadata": {},
   "outputs": [
    {
     "name": "stdout",
     "output_type": "stream",
     "text": [
      "           country  drives_right  cars_per_cap\n",
      "US   United States          True           809\n",
      "RU          Russia          True           200\n",
      "MOR        Morocco          True            70\n",
      "EG           Egypt          True            45\n"
     ]
    }
   ],
   "source": [
    "# Extract drives_right column as Series: dr\n",
    "dr = cars['drives_right']\n",
    "\n",
    "# Use dr to subset cars: sel\n",
    "sel = cars[dr == True]\n",
    "\n",
    "# Print sel\n",
    "print(sel)"
   ]
  },
  {
   "cell_type": "markdown",
   "id": "9a0aee22-78e4-44d5-8df6-e00b2ad843ad",
   "metadata": {},
   "source": [
    "In panda's series and numpy arrays, to use logical operators such as AND, OR and NOT numpy provides the `logical_and`, `logical_or` and `logical_not` functions"
   ]
  },
  {
   "cell_type": "code",
   "execution_count": 65,
   "id": "40badbfc-88d5-4c98-9c7d-7c4b091cd592",
   "metadata": {},
   "outputs": [
    {
     "name": "stdout",
     "output_type": "stream",
     "text": [
      "   country  drives_right  cars_per_cap\n",
      "RU  Russia          True           200\n"
     ]
    }
   ],
   "source": [
    "# import numpy\n",
    "import numpy as np\n",
    "\n",
    "# Create medium: observations with cars_per_cap between 100 and 500\n",
    "medium = cars[np.logical_and(\n",
    "    cars['cars_per_cap'] > 100,\n",
    "    cars['cars_per_cap'] < 500\n",
    ")]\n",
    "\n",
    "# Print medium\n",
    "print(medium)\n"
   ]
  },
  {
   "cell_type": "markdown",
   "id": "6f1d11ec-de6a-4525-bf44-8afb2c0e00dc",
   "metadata": {},
   "source": [
    "### Looping over a DataFrame\n",
    "\n",
    "A simple `for` loop over a DataFrame will print the column names"
   ]
  },
  {
   "cell_type": "code",
   "execution_count": 66,
   "id": "bf2a8c53-b3f1-450b-9b6f-41f51e007ea6",
   "metadata": {},
   "outputs": [
    {
     "name": "stdout",
     "output_type": "stream",
     "text": [
      "country\n",
      "drives_right\n",
      "cars_per_cap\n"
     ]
    }
   ],
   "source": [
    "# Iterate over column names\n",
    "for column in cars :\n",
    "    print(column)"
   ]
  },
  {
   "cell_type": "markdown",
   "id": "9d529482-3390-4fa1-ae60-6e9e0f686d63",
   "metadata": {},
   "source": [
    "A more useful scenario is to iterate over rows. The `iterrows` method must be used for that"
   ]
  },
  {
   "cell_type": "code",
   "execution_count": 67,
   "id": "6b22e97e-d61b-47b3-968f-c209a9d5d56c",
   "metadata": {},
   "outputs": [
    {
     "name": "stdout",
     "output_type": "stream",
     "text": [
      "Row label: US\n",
      "country         United States\n",
      "drives_right             True\n",
      "cars_per_cap              809\n",
      "Name: US, dtype: object\n",
      "\n",
      "Row label: AUS\n",
      "country         Australia\n",
      "drives_right        False\n",
      "cars_per_cap          731\n",
      "Name: AUS, dtype: object\n",
      "\n",
      "Row label: JPN\n",
      "country         Japan\n",
      "drives_right    False\n",
      "cars_per_cap      588\n",
      "Name: JPN, dtype: object\n",
      "\n",
      "Row label: IN\n",
      "country         India\n",
      "drives_right    False\n",
      "cars_per_cap       18\n",
      "Name: IN, dtype: object\n",
      "\n",
      "Row label: RU\n",
      "country         Russia\n",
      "drives_right      True\n",
      "cars_per_cap       200\n",
      "Name: RU, dtype: object\n",
      "\n",
      "Row label: MOR\n",
      "country         Morocco\n",
      "drives_right       True\n",
      "cars_per_cap         70\n",
      "Name: MOR, dtype: object\n",
      "\n",
      "Row label: EG\n",
      "country         Egypt\n",
      "drives_right     True\n",
      "cars_per_cap       45\n",
      "Name: EG, dtype: object\n",
      "\n"
     ]
    }
   ],
   "source": [
    "for lab, row in cars.iterrows() :\n",
    "    print(f'Row label: {lab}')\n",
    "    print(row)\n",
    "    print()"
   ]
  },
  {
   "cell_type": "markdown",
   "id": "808547bd-6090-4984-9e45-fffe530d8739",
   "metadata": {},
   "source": [
    "### Adding or modifying columns\n",
    "\n",
    "The assignment operator can be used to create a new column on the DataFrame or edit an existing one. The `apply` method can be used to pass a callback and apply it to every row of an existing Series"
   ]
  },
  {
   "cell_type": "code",
   "execution_count": 68,
   "id": "4086d055-8ce6-4a18-9984-11b173418d1c",
   "metadata": {},
   "outputs": [
    {
     "name": "stdout",
     "output_type": "stream",
     "text": [
      "           country  drives_right  cars_per_cap        COUNTRY\n",
      "US   United States          True           809  UNITED STATES\n",
      "AUS      Australia         False           731      AUSTRALIA\n",
      "JPN          Japan         False           588          JAPAN\n",
      "IN           India         False            18          INDIA\n",
      "RU          Russia          True           200         RUSSIA\n",
      "MOR        Morocco          True            70        MOROCCO\n",
      "EG           Egypt          True            45          EGYPT\n"
     ]
    }
   ],
   "source": [
    "# Use .apply(str.upper)\n",
    "cars['COUNTRY'] = cars['country'].apply(str.upper)\n",
    "\n",
    "print(cars)"
   ]
  }
 ],
 "metadata": {
  "kernelspec": {
   "display_name": "Python 3 (ipykernel)",
   "language": "python",
   "name": "python3"
  },
  "language_info": {
   "codemirror_mode": {
    "name": "ipython",
    "version": 3
   },
   "file_extension": ".py",
   "mimetype": "text/x-python",
   "name": "python",
   "nbconvert_exporter": "python",
   "pygments_lexer": "ipython3",
   "version": "3.9.13"
  }
 },
 "nbformat": 4,
 "nbformat_minor": 5
}
