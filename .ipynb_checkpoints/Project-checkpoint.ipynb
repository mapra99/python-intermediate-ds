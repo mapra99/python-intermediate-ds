{
 "cells": [
  {
   "cell_type": "markdown",
   "metadata": {},
   "source": [
    "# Project: Hacker Statistics!"
   ]
  },
  {
   "cell_type": "markdown",
   "metadata": {},
   "source": [
    "# The problem"
   ]
  },
  {
   "cell_type": "markdown",
   "metadata": {},
   "source": [
    "You are in the base floor of the Empire State Building. You have a dice, and decide to move depending on the score you throw on the dice:\n",
    "- If you get 1 or 2, you move down one floor\n",
    "- If you get 3, 4 or 5, you move up one floor\n",
    "- If you get 6, you launch again and you move up the amount of floors equal to the score you get in the dice\n",
    "\n",
    "You have a 0.1% chance of falling down the stairs and getting back to the base floor.\n",
    "You throw the dice 100 times. What is the probability of getting to floor 60?"
   ]
  },
  {
   "cell_type": "markdown",
   "metadata": {},
   "source": [
    "# Stocastical approach"
   ]
  },
  {
   "cell_type": "markdown",
   "metadata": {},
   "source": [
    "### Setting up Random numbers generation\n",
    "Will use `numpy`'s `random` module"
   ]
  },
  {
   "cell_type": "code",
   "execution_count": 1,
   "metadata": {},
   "outputs": [],
   "source": [
    "import numpy as np\n",
    "np.random.seed(123)"
   ]
  },
  {
   "cell_type": "markdown",
   "metadata": {},
   "source": [
    "Two particularly important methods will we use here"
   ]
  },
  {
   "cell_type": "code",
   "execution_count": 2,
   "metadata": {},
   "outputs": [
    {
     "name": "stdout",
     "output_type": "stream",
     "text": [
      "0.6964691855978616\n"
     ]
    }
   ],
   "source": [
    "# Random number between 0 and 1\n",
    "print(np.random.rand())"
   ]
  },
  {
   "cell_type": "code",
   "execution_count": 3,
   "metadata": {},
   "outputs": [
    {
     "name": "stdout",
     "output_type": "stream",
     "text": [
      "3\n"
     ]
    }
   ],
   "source": [
    "# Random integer number between 1 and 6\n",
    "print(np.random.randint(1,7))"
   ]
  },
  {
   "cell_type": "markdown",
   "metadata": {},
   "source": [
    "### Determining the next move"
   ]
  },
  {
   "cell_type": "markdown",
   "metadata": {},
   "source": [
    "The next move will depend on the result of the dice. Following the constraints, it will be something like:"
   ]
  },
  {
   "cell_type": "code",
   "execution_count": 4,
   "metadata": {},
   "outputs": [
    {
     "name": "stdout",
     "output_type": "stream",
     "text": [
      "dice score is 5\n",
      "move 1 up!\n"
     ]
    }
   ],
   "source": [
    "dice = np.random.randint(1,7)\n",
    "print(\"dice score is \" + str(dice))\n",
    "if dice in [1, 2]:\n",
    "    print(\"move 1 down!\")\n",
    "elif dice in [3,4,5]:\n",
    "    print(\"move 1 up!\")\n",
    "else:\n",
    "    dice = np.random.randint(1, 7)\n",
    "    print(\"dice score is \" + str(dice))\n",
    "    print(\"move \" + str(dice) + \" up!\")\n"
   ]
  },
  {
   "cell_type": "markdown",
   "metadata": {},
   "source": [
    "### Simulating a Random Walk"
   ]
  },
  {
   "cell_type": "markdown",
   "metadata": {},
   "source": [
    "A random walk is a series where the each entry depends on the previous one and some random decision. A random walk would nicely simulate this problem."
   ]
  },
  {
   "cell_type": "code",
   "execution_count": 5,
   "metadata": {},
   "outputs": [
    {
     "name": "stdout",
     "output_type": "stream",
     "text": [
      "[0, 1, 0, 1, 2, 3, 2, 1, 0, -1, -2, -3, -4, -5, -4, 1, 0, -1, 0, -1, 0, 1, 2, 3, 4, 3, 4, 3, 4, 5, 6, 7, 6, 10, 11, 10, 11, 10, 11, 12, 13, 14, 15, 16, 17, 20, 21, 22, 23, 28, 29, 33, 34, 33, 34, 35, 34, 35, 36, 38, 39, 40, 39, 38, 39, 40, 39, 38, 39, 40, 42, 41, 40, 41, 40, 41, 42, 43, 45, 44, 45, 46, 47, 48, 49, 48, 47, 48, 47, 48, 49, 48, 51, 52, 53, 54, 53, 54, 55, 59, 58]\n"
     ]
    }
   ],
   "source": [
    "random_walk = [0]\n",
    "for x in range(0,100):\n",
    "    step = random_walk[x]\n",
    "    dice = np.random.randint(1, 7)\n",
    "    if dice in [1, 2]:\n",
    "        step -= 1\n",
    "    elif dice in [3,4,5]:\n",
    "        step += 1\n",
    "    else:\n",
    "        dice = np.random.randint(1, 7)\n",
    "        step += dice\n",
    "    \n",
    "    random_walk.append(step)\n",
    "\n",
    "print(random_walk)"
   ]
  },
  {
   "cell_type": "markdown",
   "metadata": {},
   "source": [
    "#### Beware! You cann't go lower than 0"
   ]
  },
  {
   "cell_type": "markdown",
   "metadata": {},
   "source": [
    "There is something missing here: We have to add a condition to not go more down than 0"
   ]
  },
  {
   "cell_type": "code",
   "execution_count": 6,
   "metadata": {},
   "outputs": [
    {
     "name": "stdout",
     "output_type": "stream",
     "text": [
      "[0, 0, 2, 1, 2, 4, 5, 6, 11, 10, 11, 12, 13, 14, 15, 14, 19, 20, 21, 22, 21, 20, 19, 18, 17, 18, 19, 20, 26, 25, 24, 23, 24, 25, 26, 25, 26, 27, 26, 31, 32, 31, 30, 29, 28, 29, 28, 27, 29, 30, 33, 34, 36, 37, 38, 39, 38, 37, 38, 39, 40, 41, 40, 41, 42, 43, 46, 47, 48, 47, 48, 47, 48, 49, 50, 54, 53, 52, 53, 54, 55, 54, 55, 54, 55, 57, 62, 61, 62, 63, 64, 65, 66, 67, 66, 67, 68, 69, 71, 73, 72]\n"
     ]
    }
   ],
   "source": [
    "random_walk = [0]\n",
    "for x in range(0,100):\n",
    "    step = random_walk[x]\n",
    "    dice = np.random.randint(1, 7)\n",
    "    if dice in [1, 2]:\n",
    "        step -= 1\n",
    "    elif dice in [3,4,5]:\n",
    "        step += 1\n",
    "    else:\n",
    "        dice = np.random.randint(1, 7)\n",
    "        step += dice\n",
    "    \n",
    "    random_walk.append(max(step, 0))\n",
    "\n",
    "print(random_walk)"
   ]
  },
  {
   "cell_type": "markdown",
   "metadata": {},
   "source": [
    "#### Also, you have 0.1% of falling back to the base!"
   ]
  },
  {
   "cell_type": "code",
   "execution_count": 7,
   "metadata": {},
   "outputs": [
    {
     "name": "stdout",
     "output_type": "stream",
     "text": [
      "[0, 3, 2, 3, 4, 5, 7, 8, 7, 8, 9, 8, 9, 14, 13, 12, 13, 14, 15, 16, 17, 18, 17, 23, 22, 23, 27, 31, 33, 35, 38, 39, 38, 39, 40, 41, 40, 41, 47, 46, 47, 48, 50, 49, 50, 56, 57, 58, 59, 58, 57, 58, 59, 58, 62, 61, 62, 63, 64, 68, 69, 68, 70, 69, 68, 69, 68, 67, 68, 73, 72, 71, 75, 78, 79, 81, 82, 81, 80, 81, 82, 81, 80, 85, 86, 87, 86, 85, 86, 87, 93, 94, 95, 96, 97, 96, 95, 96, 97, 96, 95]\n"
     ]
    }
   ],
   "source": [
    "random_walk = [0]\n",
    "for x in range(0,100):\n",
    "    clumsiness = np.random.rand()\n",
    "    if clumsiness <= 0.001:\n",
    "        step = 0\n",
    "    else:\n",
    "        step = random_walk[x]\n",
    "        dice = np.random.randint(1, 7)\n",
    "        if dice in [1, 2]:\n",
    "            step -= 1\n",
    "        elif dice in [3,4,5]:\n",
    "            step += 1\n",
    "        else:\n",
    "            dice = np.random.randint(1, 7)\n",
    "            step += dice\n",
    "    \n",
    "    random_walk.append(max(step, 0))\n",
    "\n",
    "print(random_walk)"
   ]
  },
  {
   "cell_type": "markdown",
   "metadata": {},
   "source": [
    "#### Cool! Let's visualize the walk"
   ]
  },
  {
   "cell_type": "markdown",
   "metadata": {},
   "source": [
    "Will use `matplotlib` for visualization"
   ]
  },
  {
   "cell_type": "code",
   "execution_count": 8,
   "metadata": {},
   "outputs": [
    {
     "data": {
      "image/png": "[encoded data removed]",
      "text/plain": [
       "<Figure size 432x288 with 1 Axes>"
      ]
     },
     "metadata": {
      "needs_background": "light"
     },
     "output_type": "display_data"
    }
   ],
   "source": [
    "import matplotlib.pyplot as plt\n",
    "plt.plot(random_walk)\n",
    "plt.show()"
   ]
  },
  {
   "cell_type": "markdown",
   "metadata": {},
   "source": [
    "### Analyzing the Distribution"
   ]
  },
  {
   "cell_type": "markdown",
   "metadata": {},
   "source": [
    "Let's see how the random walk behaves by looking at its distribution. Then we will be able to see what are the changes to get to floor 60. We can repeatedly simulate the random walk and collect the results"
   ]
  },
  {
   "cell_type": "code",
   "execution_count": 9,
   "metadata": {},
   "outputs": [],
   "source": [
    "all_walks = []\n",
    "for i in range(0, 10):\n",
    "    random_walk = [0]\n",
    "    for x in range(0,100):\n",
    "        clumsiness = np.random.rand()\n",
    "        if clumsiness <= 0.001:\n",
    "            step = 0\n",
    "        else:\n",
    "            step = random_walk[x]\n",
    "            dice = np.random.randint(1, 7)\n",
    "            if dice in [1, 2]:\n",
    "                step -= 1\n",
    "            elif dice in [3,4,5]:\n",
    "                step += 1\n",
    "            else:\n",
    "                dice = np.random.randint(1, 7)\n",
    "                step += dice\n",
    "\n",
    "        random_walk.append(max(step, 0))\n",
    "    all_walks.append(random_walk)"
   ]
  },
  {
   "cell_type": "markdown",
   "metadata": {},
   "source": [
    "Let's see all the walks in line plots."
   ]
  },
  {
   "cell_type": "code",
   "execution_count": 10,
   "metadata": {},
   "outputs": [
    {
     "data": {
      "image/png": "[encoded data removed]",
      "text/plain": [
       "<Figure size 432x288 with 1 Axes>"
      ]
     },
     "metadata": {
      "needs_background": "light"
     },
     "output_type": "display_data"
    }
   ],
   "source": [
    "np_aw = np.array(all_walks)\n",
    "np_aw_t = np.transpose(np_aw)\n",
    "plt.plot(np_aw_t)\n",
    "plt.show()"
   ]
  },
  {
   "cell_type": "markdown",
   "metadata": {},
   "source": [
    "#### Let's go to the Distribution"
   ]
  },
  {
   "cell_type": "markdown",
   "metadata": {},
   "source": [
    "Let's run 1000 times this simulation"
   ]
  },
  {
   "cell_type": "code",
   "execution_count": 11,
   "metadata": {},
   "outputs": [],
   "source": [
    "all_walks = []\n",
    "for i in range(0, 1000):\n",
    "    random_walk = [0]\n",
    "    for x in range(0,100):\n",
    "        clumsiness = np.random.rand()\n",
    "        if clumsiness <= 0.001:\n",
    "            step = 0\n",
    "        else:\n",
    "            step = random_walk[x]\n",
    "            dice = np.random.randint(1, 7)\n",
    "            if dice in [1, 2]:\n",
    "                step -= 1\n",
    "            elif dice in [3,4,5]:\n",
    "                step += 1\n",
    "            else:\n",
    "                dice = np.random.randint(1, 7)\n",
    "                step += dice\n",
    "\n",
    "        random_walk.append(max(step, 0))\n",
    "    all_walks.append(random_walk)"
   ]
  },
  {
   "cell_type": "markdown",
   "metadata": {},
   "source": [
    "Now let's take all the last elements in each array"
   ]
  },
  {
   "cell_type": "code",
   "execution_count": 12,
   "metadata": {},
   "outputs": [],
   "source": [
    "np_aw = np.array(all_walks)\n",
    "np_aw_t = np.transpose(np_aw)\n",
    "ends = np_aw_t[-1, :]"
   ]
  },
  {
   "cell_type": "markdown",
   "metadata": {},
   "source": [
    "Let's go to the plot"
   ]
  },
  {
   "cell_type": "code",
   "execution_count": 13,
   "metadata": {},
   "outputs": [
    {
     "data": {
      "image/png": "[encoded data removed]",
      "text/plain": [
       "<Figure size 432x288 with 1 Axes>"
      ]
     },
     "metadata": {
      "needs_background": "light"
     },
     "output_type": "display_data"
    }
   ],
   "source": [
    "plt.hist(ends)\n",
    "plt.show()"
   ]
  },
  {
   "cell_type": "markdown",
   "metadata": {},
   "source": [
    "The distribution looks like it is a good bet to get to 60th floor. The probability of getting to at least the 60th floor would be:"
   ]
  },
  {
   "cell_type": "code",
   "execution_count": 16,
   "metadata": {},
   "outputs": [
    {
     "data": {
      "text/plain": [
       "0.768"
      ]
     },
     "execution_count": 16,
     "metadata": {},
     "output_type": "execute_result"
    }
   ],
   "source": [
    "ends[ends >= 60].size / ends.size"
   ]
  }
 ],
 "metadata": {
  "kernelspec": {
   "display_name": "Python 3",
   "language": "python",
   "name": "python3"
  },
  "language_info": {
   "codemirror_mode": {
    "name": "ipython",
    "version": 3
   },
   "file_extension": ".py",
   "mimetype": "text/x-python",
   "name": "python",
   "nbconvert_exporter": "python",
   "pygments_lexer": "ipython3",
   "version": "3.7.7"
  }
 },
 "nbformat": 4,
 "nbformat_minor": 4
}
